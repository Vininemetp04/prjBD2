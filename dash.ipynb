{
 "cells": [
  {
   "cell_type": "code",
   "execution_count": 2,
   "id": "619599a6",
   "metadata": {},
   "outputs": [],
   "source": [
    "import sqlite3\n",
    "import pandas as pd\n",
    "import plotly.express as px"
   ]
  },
  {
   "cell_type": "markdown",
   "id": "4203fec2",
   "metadata": {},
   "source": [
    "#### Definindo a conexão com o Banco de dados"
   ]
  },
  {
   "cell_type": "code",
   "execution_count": 3,
   "id": "ee74d2fa",
   "metadata": {},
   "outputs": [],
   "source": [
    "CONN = sqlite3.connect(\"./database.db\")\n",
    "CURSOR = CONN.cursor()"
   ]
  }
 ],
 "metadata": {
  "kernelspec": {
   "display_name": ".venv",
   "language": "python",
   "name": "python3"
  },
  "language_info": {
   "codemirror_mode": {
    "name": "ipython",
    "version": 3
   },
   "file_extension": ".py",
   "mimetype": "text/x-python",
   "name": "python",
   "nbconvert_exporter": "python",
   "pygments_lexer": "ipython3",
   "version": "3.13.3"
  }
 },
 "nbformat": 4,
 "nbformat_minor": 5
}
