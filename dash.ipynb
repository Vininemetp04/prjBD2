{
 "cells": [
  {
   "cell_type": "markdown",
   "id": "4b0f7853",
   "metadata": {},
   "source": [
    "### Importação das Bibliotecas necessarias "
   ]
  },
  {
   "cell_type": "code",
   "execution_count": 1,
   "id": "619599a6",
   "metadata": {},
   "outputs": [],
   "source": [
    "import sqlite3\n",
    "import pandas as pd\n",
    "import plotly.express as px\n",
    "import ipywidgets as widgets\n",
    "from IPython.display import display, clear_output\n",
    "import datetime"
   ]
  },
  {
   "cell_type": "markdown",
   "id": "4203fec2",
   "metadata": {},
   "source": [
    "### Configurações Basicas\n",
    " - Definindo a conexão com o Banco de Dados\n",
    " - Configurando a visualização do Pandas"
   ]
  },
  {
   "cell_type": "code",
   "execution_count": 2,
   "id": "ee74d2fa",
   "metadata": {},
   "outputs": [],
   "source": [
    "CONN = sqlite3.connect(\"./database.db\")\n",
    "CURSOR = CONN.cursor()\n",
    "pd.set_option('display.width', 1000)"
   ]
  },
  {
   "cell_type": "markdown",
   "id": "d049e0e3",
   "metadata": {},
   "source": [
    "### Visualização de Itens parados no Estoque"
   ]
  },
  {
   "cell_type": "code",
   "execution_count": 9,
   "id": "2ee2bbd7",
   "metadata": {},
   "outputs": [
    {
     "name": "stdout",
     "output_type": "stream",
     "text": [
      "   ID_Produto        Nome_Produto  Quantidade_em_Estoque Ultima_Compra  Dias_em_Estoque\n",
      "0           1        Smartphone X                    150    2024-04-01            431.0\n",
      "1           7    Leite Longa Vida                    400    2024-04-10            422.0\n",
      "2           8    Calça Jeans Azul                    200    2024-04-15            417.0\n",
      "3           4  O Pequeno Príncipe                    100    2024-04-20            412.0\n",
      "4          10        Limpa Vidros                    180    2024-04-25            407.0\n",
      "5          11         Pneu Aro 15                     80    2025-05-15             22.0\n",
      "6          16        Câmera de Ré                     60    2025-05-15             22.0\n",
      "7          12    Raquete de Tênis                     50    2025-05-20             17.0\n",
      "8          17     Bola de Futebol                    120    2025-05-20             17.0\n",
      "9          13  Adubo Orgânico 1kg                    150    2025-05-25             12.0\n"
     ]
    }
   ],
   "source": [
    "estoque = pd.read_sql(\"SELECT * FROM TempoEmEstoque\", CONN)\n",
    "print(estoque)"
   ]
  },
  {
   "cell_type": "markdown",
   "id": "b180c2d3",
   "metadata": {},
   "source": [
    "### Promoções Ativas"
   ]
  },
  {
   "cell_type": "code",
   "execution_count": 3,
   "id": "a7f2387f",
   "metadata": {},
   "outputs": [
    {
     "name": "stdout",
     "output_type": "stream",
     "text": [
      "   PromocaoID  PercentualDesconto  DataInicio     DataFim  ProdutoID           NomeProduto  PrecoOriginal  PrecoPromocional\n",
      "0           1                  10  2025-06-01  2025-06-30          1          Smartphone X         1200.5           1080.45\n",
      "1           2                  15  2025-06-05  2025-06-25          3      Camiseta Algodão           49.9             42.41\n",
      "2           8                   5  2025-06-05  2025-06-12         15  Protetor Solar FPS50           60.0             57.00\n"
     ]
    }
   ],
   "source": [
    "promocoes = pd.read_sql(\"SELECT * FROM vw_Promocao_Ativa\", CONN)\n",
    "print(promocoes)"
   ]
  },
  {
   "cell_type": "markdown",
   "id": "1f1ce633",
   "metadata": {},
   "source": [
    "### Gráfico de Vendas"
   ]
  },
  {
   "cell_type": "code",
   "execution_count": 20,
   "id": "e580c2e6",
   "metadata": {},
   "outputs": [
    {
     "data": {
      "application/vnd.jupyter.widget-view+json": {
       "model_id": "a2890b40f8c4452fa484293022976839",
       "version_major": 2,
       "version_minor": 0
      },
      "text/plain": [
       "DatePicker(value=datetime.date(2025, 6, 6), description='Intervalo de Vendas:', max=datetime.date(2025, 6, 6),…"
      ]
     },
     "metadata": {},
     "output_type": "display_data"
    },
    {
     "data": {
      "application/vnd.jupyter.widget-view+json": {
       "model_id": "5f0a9f5cad5d47468aa33a8eddd436bc",
       "version_major": 2,
       "version_minor": 0
      },
      "text/plain": [
       "DatePicker(value=datetime.date(2025, 6, 6), description='Até:', max=datetime.date(2025, 6, 6), min=datetime.da…"
      ]
     },
     "metadata": {},
     "output_type": "display_data"
    },
    {
     "data": {
      "application/vnd.jupyter.widget-view+json": {
       "model_id": "b62e67c772bb4e108dbdd590865e6fbb",
       "version_major": 2,
       "version_minor": 0
      },
      "text/plain": [
       "Output()"
      ]
     },
     "metadata": {},
     "output_type": "display_data"
    }
   ],
   "source": [
    "inicioVenda = widgets.DatePicker(\n",
    "    description='Intervalo de Vendas:',\n",
    "    disabled=False,\n",
    "    # Define o valor inicial como a data de hoje, garantindo que haja um valor padrão\n",
    "    value=datetime.date.today(),\n",
    "    min=datetime.date(2020, 1, 1), # Data mínima para o seletor\n",
    "    max=datetime.date.today()      # Data máxima para o seletor\n",
    ")\n",
    "fimVenda = widgets.DatePicker(\n",
    "    description='Até:', \n",
    "    disabled=False,\n",
    "    value=datetime.date.today(),\n",
    "    min=datetime.date(2020, 1, 1),\n",
    "    max=datetime.date.today()\n",
    ")\n",
    "\n",
    "output_area_vendas = widgets.Output() \n",
    "\n",
    "def drawGraphVendas(): \n",
    "    with output_area_vendas:\n",
    "        clear_output(wait=True)\n",
    "\n",
    "        query_vendas_view = f\"\"\"\n",
    "        SELECT\n",
    "            Data_Venda,\n",
    "            Total\n",
    "        FROM\n",
    "            vw_Item_Venda_Detalhado\n",
    "        WHERE\n",
    "            Data_Venda BETWEEN '{inicioVenda.value}' AND '{fimVenda.value}'\n",
    "        ORDER BY\n",
    "            Data_Venda;\n",
    "        \"\"\"\n",
    "        df_vendas_detalhe = pd.read_sql_query(query_vendas_view, CONN)\n",
    "\n",
    "        if df_vendas_detalhe.empty:\n",
    "            print(\"Não há dados nesse intervalo :(\")\n",
    "            return\n",
    "\n",
    "        df_vendas_detalhe['Data_Venda'] = pd.to_datetime(df_vendas_detalhe['Data_Venda'])\n",
    "\n",
    "        df_vendas_diarias_agrupadas = df_vendas_detalhe.groupby('Data_Venda')['Total'].sum().reset_index()\n",
    "\n",
    "        # 3. Gerar todas as datas no intervalo selecionado\n",
    "        all_dates_vendas = pd.date_range(start=inicioVenda.value, end=fimVenda.value, freq='D')\n",
    "        df_all_dates_vendas = pd.DataFrame(all_dates_vendas, columns=['Data'])\n",
    "\n",
    "        df_final_plot_vendas = pd.merge(df_all_dates_vendas, df_vendas_diarias_agrupadas,\n",
    "                                        left_on='Data', right_on='Data_Venda', how='left')\n",
    "\n",
    "        df_final_plot_vendas['TotalVendasDiarias'] = df_final_plot_vendas['Total'].fillna(0)\n",
    "        df_final_plot_vendas = df_final_plot_vendas[['Data', 'TotalVendasDiarias']]\n",
    "\n",
    "        fig = px.line(df_final_plot_vendas,\n",
    "                      x='Data',\n",
    "                      y='TotalVendasDiarias',\n",
    "                      title=f'Total de Vendas Diárias de {inicioVenda.value} a {fimVenda.value}',\n",
    "                      labels={'Data': 'Data da Venda', 'TotalVendasDiarias': 'Valor Total das Vendas (R$)'})\n",
    "\n",
    "        fig.update_xaxes(\n",
    "            rangeselector=dict(\n",
    "                buttons=list([\n",
    "                    dict(count=1, label=\"1m\", step=\"month\", stepmode=\"backward\"),\n",
    "                    dict(count=6, label=\"6m\", step=\"month\", stepmode=\"backward\"),\n",
    "                    dict(count=1, label=\"1y\", step=\"year\", stepmode=\"backward\"),\n",
    "                    dict(step=\"all\")\n",
    "                ])\n",
    "            ),\n",
    "            rangeslider=dict(visible=True),\n",
    "            type=\"date\"\n",
    "        )\n",
    "\n",
    "        fig.show()\n",
    "\n",
    "def on_date_changeVenda(change):\n",
    "    drawGraphVendas()\n",
    "\n",
    "inicioVenda.observe(on_date_changeVenda, names='value')\n",
    "fimVenda.observe(on_date_changeVenda, names='value')\n",
    "display(inicioVenda, fimVenda, output_area_vendas)"
   ]
  },
  {
   "cell_type": "markdown",
   "id": "7141ae77",
   "metadata": {},
   "source": [
    "### Gráfico de Compras\n"
   ]
  },
  {
   "cell_type": "code",
   "execution_count": null,
   "id": "77aeb54f",
   "metadata": {},
   "outputs": [
    {
     "data": {
      "application/vnd.jupyter.widget-view+json": {
       "model_id": "c48dd509a3ad401d8927738ef93a814a",
       "version_major": 2,
       "version_minor": 0
      },
      "text/plain": [
       "DatePicker(value=datetime.date(2025, 6, 6), description='Intervalo de:', max=datetime.date(2025, 6, 6), min=da…"
      ]
     },
     "metadata": {},
     "output_type": "display_data"
    },
    {
     "data": {
      "application/vnd.jupyter.widget-view+json": {
       "model_id": "775c597584284811adeb68b2d5738932",
       "version_major": 2,
       "version_minor": 0
      },
      "text/plain": [
       "DatePicker(value=datetime.date(2025, 6, 6), max=datetime.date(2025, 6, 6), min=datetime.date(2020, 1, 1), step…"
      ]
     },
     "metadata": {},
     "output_type": "display_data"
    },
    {
     "data": {
      "application/vnd.jupyter.widget-view+json": {
       "model_id": "71ef5ea48b9a4c5b901219d9607bc075",
       "version_major": 2,
       "version_minor": 0
      },
      "text/plain": [
       "Output()"
      ]
     },
     "metadata": {},
     "output_type": "display_data"
    }
   ],
   "source": [
    "inicioCompra = widgets.DatePicker(\n",
    "    description='Intervalo de:',\n",
    "    disabled=False,\n",
    "    value=datetime.date.today(),\n",
    "    min=datetime.date(2020, 1, 1),\n",
    "    max=datetime.date.today()\n",
    ")\n",
    "fimCompra = widgets.DatePicker(\n",
    "    disabled=False,\n",
    "    value=datetime.date.today(),\n",
    "    min=datetime.date(2020, 1, 1),\n",
    "    max=datetime.date.today()\n",
    ")\n",
    "\n",
    "output_area = widgets.Output()\n",
    "\n",
    "def drawGraphCompra():\n",
    "    with output_area:\n",
    "        clear_output(wait=True)\n",
    "\n",
    "        query_compras_view = f\"\"\"\n",
    "        SELECT\n",
    "            DataCompra,\n",
    "            ValorTotalInformado\n",
    "        FROM\n",
    "            vw_Compra_Detalhada\n",
    "        WHERE\n",
    "            DataCompra BETWEEN '{inicioCompra.value}' AND '{fimCompra.value}'\n",
    "        ORDER BY\n",
    "            DataCompra;\n",
    "        \"\"\"\n",
    "        df_compras_detalhe = pd.read_sql_query(query_compras_view, CONN)\n",
    "\n",
    "        if df_compras_detalhe.empty:\n",
    "            print(\"Não há dados nesse intervalo :(\")\n",
    "            return\n",
    "\n",
    "        df_compras_detalhe['DataCompra'] = pd.to_datetime(df_compras_detalhe['DataCompra'])\n",
    "\n",
    "        df_compras_diarias_agrupadas = df_compras_detalhe.groupby('DataCompra')['ValorTotalInformado'].sum().reset_index()\n",
    "\n",
    "        all_dates = pd.date_range(start=inicioCompra.value, end=fimCompra.value, freq='D')\n",
    "        df_all_dates = pd.DataFrame(all_dates, columns=['Data'])\n",
    "\n",
    "        df_final_plot = pd.merge(df_all_dates, df_compras_diarias_agrupadas,\n",
    "                                 left_on='Data', right_on='DataCompra', how='left')\n",
    "\n",
    "        df_final_plot['TotalCompras'] = df_final_plot['ValorTotalInformado'].fillna(0)\n",
    "        df_final_plot = df_final_plot[['Data', 'TotalCompras']] \n",
    "        fig = px.line(df_final_plot,\n",
    "                      x='Data',\n",
    "                      y='TotalCompras',\n",
    "                      title=f'Total de Compras Diárias de {inicioCompra.value} a {fimCompra.value}',\n",
    "                      labels={'Data': 'Data da Compra', 'TotalCompras': 'Valor Total das Compras (R$)'})\n",
    "\n",
    "        fig.update_xaxes(\n",
    "            rangeselector=dict(\n",
    "                buttons=list([\n",
    "                    dict(count=1, label=\"1m\", step=\"month\", stepmode=\"backward\"),\n",
    "                    dict(count=6, label=\"6m\", step=\"month\", stepmode=\"backward\"),\n",
    "                    dict(count=1, label=\"1y\", step=\"year\", stepmode=\"backward\"),\n",
    "                    dict(step=\"all\")\n",
    "                ])\n",
    "            ),\n",
    "            rangeslider=dict(visible=True),\n",
    "            type=\"date\"\n",
    "        )\n",
    "\n",
    "        fig.show()\n",
    "\n",
    "def on_date_changeCompra(change):\n",
    "    drawGraphCompra()\n",
    "\n",
    "inicioCompra.observe(on_date_changeCompra, names='value')\n",
    "fimCompra.observe(on_date_changeCompra, names='value')\n",
    "display(inicioCompra, fimCompra, output_area)"
   ]
  },
  {
   "cell_type": "markdown",
   "id": "d705ceee",
   "metadata": {},
   "source": [
    "### Métodos de Pagamento Utilizados"
   ]
  },
  {
   "cell_type": "code",
   "execution_count": 25,
   "id": "49bacd79",
   "metadata": {},
   "outputs": [
    {
     "data": {
      "application/vnd.plotly.v1+json": {
       "config": {
        "plotlyServerURL": "https://plot.ly"
       },
       "data": [
        {
         "domain": {
          "x": [
           0,
           1
          ],
          "y": [
           0,
           1
          ]
         },
         "hole": 0.3,
         "hovertemplate": "Método de Pagamento=%{label}<br>Vezes Usado=%{value}<extra></extra>",
         "labels": [
          "Cartão de Crédito",
          "Cartão de Débito",
          "Dinheiro",
          "Pix"
         ],
         "legendgroup": "",
         "name": "",
         "showlegend": true,
         "textinfo": "percent+label",
         "textposition": "inside",
         "type": "pie",
         "values": {
          "bdata": "DQ0ODw==",
          "dtype": "i1"
         }
        }
       ],
       "layout": {
        "legend": {
         "tracegroupgap": 0
        },
        "template": {
         "data": {
          "bar": [
           {
            "error_x": {
             "color": "#2a3f5f"
            },
            "error_y": {
             "color": "#2a3f5f"
            },
            "marker": {
             "line": {
              "color": "#E5ECF6",
              "width": 0.5
             },
             "pattern": {
              "fillmode": "overlay",
              "size": 10,
              "solidity": 0.2
             }
            },
            "type": "bar"
           }
          ],
          "barpolar": [
           {
            "marker": {
             "line": {
              "color": "#E5ECF6",
              "width": 0.5
             },
             "pattern": {
              "fillmode": "overlay",
              "size": 10,
              "solidity": 0.2
             }
            },
            "type": "barpolar"
           }
          ],
          "carpet": [
           {
            "aaxis": {
             "endlinecolor": "#2a3f5f",
             "gridcolor": "white",
             "linecolor": "white",
             "minorgridcolor": "white",
             "startlinecolor": "#2a3f5f"
            },
            "baxis": {
             "endlinecolor": "#2a3f5f",
             "gridcolor": "white",
             "linecolor": "white",
             "minorgridcolor": "white",
             "startlinecolor": "#2a3f5f"
            },
            "type": "carpet"
           }
          ],
          "choropleth": [
           {
            "colorbar": {
             "outlinewidth": 0,
             "ticks": ""
            },
            "type": "choropleth"
           }
          ],
          "contour": [
           {
            "colorbar": {
             "outlinewidth": 0,
             "ticks": ""
            },
            "colorscale": [
             [
              0,
              "#0d0887"
             ],
             [
              0.1111111111111111,
              "#46039f"
             ],
             [
              0.2222222222222222,
              "#7201a8"
             ],
             [
              0.3333333333333333,
              "#9c179e"
             ],
             [
              0.4444444444444444,
              "#bd3786"
             ],
             [
              0.5555555555555556,
              "#d8576b"
             ],
             [
              0.6666666666666666,
              "#ed7953"
             ],
             [
              0.7777777777777778,
              "#fb9f3a"
             ],
             [
              0.8888888888888888,
              "#fdca26"
             ],
             [
              1,
              "#f0f921"
             ]
            ],
            "type": "contour"
           }
          ],
          "contourcarpet": [
           {
            "colorbar": {
             "outlinewidth": 0,
             "ticks": ""
            },
            "type": "contourcarpet"
           }
          ],
          "heatmap": [
           {
            "colorbar": {
             "outlinewidth": 0,
             "ticks": ""
            },
            "colorscale": [
             [
              0,
              "#0d0887"
             ],
             [
              0.1111111111111111,
              "#46039f"
             ],
             [
              0.2222222222222222,
              "#7201a8"
             ],
             [
              0.3333333333333333,
              "#9c179e"
             ],
             [
              0.4444444444444444,
              "#bd3786"
             ],
             [
              0.5555555555555556,
              "#d8576b"
             ],
             [
              0.6666666666666666,
              "#ed7953"
             ],
             [
              0.7777777777777778,
              "#fb9f3a"
             ],
             [
              0.8888888888888888,
              "#fdca26"
             ],
             [
              1,
              "#f0f921"
             ]
            ],
            "type": "heatmap"
           }
          ],
          "histogram": [
           {
            "marker": {
             "pattern": {
              "fillmode": "overlay",
              "size": 10,
              "solidity": 0.2
             }
            },
            "type": "histogram"
           }
          ],
          "histogram2d": [
           {
            "colorbar": {
             "outlinewidth": 0,
             "ticks": ""
            },
            "colorscale": [
             [
              0,
              "#0d0887"
             ],
             [
              0.1111111111111111,
              "#46039f"
             ],
             [
              0.2222222222222222,
              "#7201a8"
             ],
             [
              0.3333333333333333,
              "#9c179e"
             ],
             [
              0.4444444444444444,
              "#bd3786"
             ],
             [
              0.5555555555555556,
              "#d8576b"
             ],
             [
              0.6666666666666666,
              "#ed7953"
             ],
             [
              0.7777777777777778,
              "#fb9f3a"
             ],
             [
              0.8888888888888888,
              "#fdca26"
             ],
             [
              1,
              "#f0f921"
             ]
            ],
            "type": "histogram2d"
           }
          ],
          "histogram2dcontour": [
           {
            "colorbar": {
             "outlinewidth": 0,
             "ticks": ""
            },
            "colorscale": [
             [
              0,
              "#0d0887"
             ],
             [
              0.1111111111111111,
              "#46039f"
             ],
             [
              0.2222222222222222,
              "#7201a8"
             ],
             [
              0.3333333333333333,
              "#9c179e"
             ],
             [
              0.4444444444444444,
              "#bd3786"
             ],
             [
              0.5555555555555556,
              "#d8576b"
             ],
             [
              0.6666666666666666,
              "#ed7953"
             ],
             [
              0.7777777777777778,
              "#fb9f3a"
             ],
             [
              0.8888888888888888,
              "#fdca26"
             ],
             [
              1,
              "#f0f921"
             ]
            ],
            "type": "histogram2dcontour"
           }
          ],
          "mesh3d": [
           {
            "colorbar": {
             "outlinewidth": 0,
             "ticks": ""
            },
            "type": "mesh3d"
           }
          ],
          "parcoords": [
           {
            "line": {
             "colorbar": {
              "outlinewidth": 0,
              "ticks": ""
             }
            },
            "type": "parcoords"
           }
          ],
          "pie": [
           {
            "automargin": true,
            "type": "pie"
           }
          ],
          "scatter": [
           {
            "fillpattern": {
             "fillmode": "overlay",
             "size": 10,
             "solidity": 0.2
            },
            "type": "scatter"
           }
          ],
          "scatter3d": [
           {
            "line": {
             "colorbar": {
              "outlinewidth": 0,
              "ticks": ""
             }
            },
            "marker": {
             "colorbar": {
              "outlinewidth": 0,
              "ticks": ""
             }
            },
            "type": "scatter3d"
           }
          ],
          "scattercarpet": [
           {
            "marker": {
             "colorbar": {
              "outlinewidth": 0,
              "ticks": ""
             }
            },
            "type": "scattercarpet"
           }
          ],
          "scattergeo": [
           {
            "marker": {
             "colorbar": {
              "outlinewidth": 0,
              "ticks": ""
             }
            },
            "type": "scattergeo"
           }
          ],
          "scattergl": [
           {
            "marker": {
             "colorbar": {
              "outlinewidth": 0,
              "ticks": ""
             }
            },
            "type": "scattergl"
           }
          ],
          "scattermap": [
           {
            "marker": {
             "colorbar": {
              "outlinewidth": 0,
              "ticks": ""
             }
            },
            "type": "scattermap"
           }
          ],
          "scattermapbox": [
           {
            "marker": {
             "colorbar": {
              "outlinewidth": 0,
              "ticks": ""
             }
            },
            "type": "scattermapbox"
           }
          ],
          "scatterpolar": [
           {
            "marker": {
             "colorbar": {
              "outlinewidth": 0,
              "ticks": ""
             }
            },
            "type": "scatterpolar"
           }
          ],
          "scatterpolargl": [
           {
            "marker": {
             "colorbar": {
              "outlinewidth": 0,
              "ticks": ""
             }
            },
            "type": "scatterpolargl"
           }
          ],
          "scatterternary": [
           {
            "marker": {
             "colorbar": {
              "outlinewidth": 0,
              "ticks": ""
             }
            },
            "type": "scatterternary"
           }
          ],
          "surface": [
           {
            "colorbar": {
             "outlinewidth": 0,
             "ticks": ""
            },
            "colorscale": [
             [
              0,
              "#0d0887"
             ],
             [
              0.1111111111111111,
              "#46039f"
             ],
             [
              0.2222222222222222,
              "#7201a8"
             ],
             [
              0.3333333333333333,
              "#9c179e"
             ],
             [
              0.4444444444444444,
              "#bd3786"
             ],
             [
              0.5555555555555556,
              "#d8576b"
             ],
             [
              0.6666666666666666,
              "#ed7953"
             ],
             [
              0.7777777777777778,
              "#fb9f3a"
             ],
             [
              0.8888888888888888,
              "#fdca26"
             ],
             [
              1,
              "#f0f921"
             ]
            ],
            "type": "surface"
           }
          ],
          "table": [
           {
            "cells": {
             "fill": {
              "color": "#EBF0F8"
             },
             "line": {
              "color": "white"
             }
            },
            "header": {
             "fill": {
              "color": "#C8D4E3"
             },
             "line": {
              "color": "white"
             }
            },
            "type": "table"
           }
          ]
         },
         "layout": {
          "annotationdefaults": {
           "arrowcolor": "#2a3f5f",
           "arrowhead": 0,
           "arrowwidth": 1
          },
          "autotypenumbers": "strict",
          "coloraxis": {
           "colorbar": {
            "outlinewidth": 0,
            "ticks": ""
           }
          },
          "colorscale": {
           "diverging": [
            [
             0,
             "#8e0152"
            ],
            [
             0.1,
             "#c51b7d"
            ],
            [
             0.2,
             "#de77ae"
            ],
            [
             0.3,
             "#f1b6da"
            ],
            [
             0.4,
             "#fde0ef"
            ],
            [
             0.5,
             "#f7f7f7"
            ],
            [
             0.6,
             "#e6f5d0"
            ],
            [
             0.7,
             "#b8e186"
            ],
            [
             0.8,
             "#7fbc41"
            ],
            [
             0.9,
             "#4d9221"
            ],
            [
             1,
             "#276419"
            ]
           ],
           "sequential": [
            [
             0,
             "#0d0887"
            ],
            [
             0.1111111111111111,
             "#46039f"
            ],
            [
             0.2222222222222222,
             "#7201a8"
            ],
            [
             0.3333333333333333,
             "#9c179e"
            ],
            [
             0.4444444444444444,
             "#bd3786"
            ],
            [
             0.5555555555555556,
             "#d8576b"
            ],
            [
             0.6666666666666666,
             "#ed7953"
            ],
            [
             0.7777777777777778,
             "#fb9f3a"
            ],
            [
             0.8888888888888888,
             "#fdca26"
            ],
            [
             1,
             "#f0f921"
            ]
           ],
           "sequentialminus": [
            [
             0,
             "#0d0887"
            ],
            [
             0.1111111111111111,
             "#46039f"
            ],
            [
             0.2222222222222222,
             "#7201a8"
            ],
            [
             0.3333333333333333,
             "#9c179e"
            ],
            [
             0.4444444444444444,
             "#bd3786"
            ],
            [
             0.5555555555555556,
             "#d8576b"
            ],
            [
             0.6666666666666666,
             "#ed7953"
            ],
            [
             0.7777777777777778,
             "#fb9f3a"
            ],
            [
             0.8888888888888888,
             "#fdca26"
            ],
            [
             1,
             "#f0f921"
            ]
           ]
          },
          "colorway": [
           "#636efa",
           "#EF553B",
           "#00cc96",
           "#ab63fa",
           "#FFA15A",
           "#19d3f3",
           "#FF6692",
           "#B6E880",
           "#FF97FF",
           "#FECB52"
          ],
          "font": {
           "color": "#2a3f5f"
          },
          "geo": {
           "bgcolor": "white",
           "lakecolor": "white",
           "landcolor": "#E5ECF6",
           "showlakes": true,
           "showland": true,
           "subunitcolor": "white"
          },
          "hoverlabel": {
           "align": "left"
          },
          "hovermode": "closest",
          "mapbox": {
           "style": "light"
          },
          "paper_bgcolor": "white",
          "plot_bgcolor": "#E5ECF6",
          "polar": {
           "angularaxis": {
            "gridcolor": "white",
            "linecolor": "white",
            "ticks": ""
           },
           "bgcolor": "#E5ECF6",
           "radialaxis": {
            "gridcolor": "white",
            "linecolor": "white",
            "ticks": ""
           }
          },
          "scene": {
           "xaxis": {
            "backgroundcolor": "#E5ECF6",
            "gridcolor": "white",
            "gridwidth": 2,
            "linecolor": "white",
            "showbackground": true,
            "ticks": "",
            "zerolinecolor": "white"
           },
           "yaxis": {
            "backgroundcolor": "#E5ECF6",
            "gridcolor": "white",
            "gridwidth": 2,
            "linecolor": "white",
            "showbackground": true,
            "ticks": "",
            "zerolinecolor": "white"
           },
           "zaxis": {
            "backgroundcolor": "#E5ECF6",
            "gridcolor": "white",
            "gridwidth": 2,
            "linecolor": "white",
            "showbackground": true,
            "ticks": "",
            "zerolinecolor": "white"
           }
          },
          "shapedefaults": {
           "line": {
            "color": "#2a3f5f"
           }
          },
          "ternary": {
           "aaxis": {
            "gridcolor": "white",
            "linecolor": "white",
            "ticks": ""
           },
           "baxis": {
            "gridcolor": "white",
            "linecolor": "white",
            "ticks": ""
           },
           "bgcolor": "#E5ECF6",
           "caxis": {
            "gridcolor": "white",
            "linecolor": "white",
            "ticks": ""
           }
          },
          "title": {
           "x": 0.05
          },
          "xaxis": {
           "automargin": true,
           "gridcolor": "white",
           "linecolor": "white",
           "ticks": "",
           "title": {
            "standoff": 15
           },
           "zerolinecolor": "white",
           "zerolinewidth": 2
          },
          "yaxis": {
           "automargin": true,
           "gridcolor": "white",
           "linecolor": "white",
           "ticks": "",
           "title": {
            "standoff": 15
           },
           "zerolinecolor": "white",
           "zerolinewidth": 2
          }
         }
        },
        "title": {
         "text": "Frequência de Métodos de Pagamento"
        }
       }
      }
     },
     "metadata": {},
     "output_type": "display_data"
    }
   ],
   "source": [
    "query_metodo_pag = \"SELECT * FROM MetodoPag;\"\n",
    "df_metodo_pag = pd.read_sql_query(query_metodo_pag, CONN)\n",
    "\n",
    "if df_metodo_pag.empty:\n",
    "    print(\"Não foram encontrados registros de pagamento\")\n",
    "else:\n",
    "    fig = px.pie(df_metodo_pag,\n",
    "                 names='Metodo',\n",
    "                 values='Vezes_Usado',\n",
    "                 title='Frequência de Métodos de Pagamento',\n",
    "                 hole=0.3, \n",
    "                 labels={'Metodo': 'Método de Pagamento', 'Vezes_Usado': 'Vezes Usado'})\n",
    "\n",
    "    fig.update_traces(textposition='inside', textinfo='percent+label') \n",
    "    fig.show()"
   ]
  },
  {
   "cell_type": "markdown",
   "id": "e982288a",
   "metadata": {},
   "source": [
    "### Fechar conexão com o banco de dados"
   ]
  },
  {
   "cell_type": "code",
   "execution_count": null,
   "id": "bd95e380",
   "metadata": {},
   "outputs": [],
   "source": [
    "CONN.close()"
   ]
  }
 ],
 "metadata": {
  "kernelspec": {
   "display_name": ".venv",
   "language": "python",
   "name": "python3"
  },
  "language_info": {
   "codemirror_mode": {
    "name": "ipython",
    "version": 3
   },
   "file_extension": ".py",
   "mimetype": "text/x-python",
   "name": "python",
   "nbconvert_exporter": "python",
   "pygments_lexer": "ipython3",
   "version": "3.13.3"
  }
 },
 "nbformat": 4,
 "nbformat_minor": 5
}
